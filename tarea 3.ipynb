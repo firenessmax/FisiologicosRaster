{
 "cells": [
  {
   "cell_type": "code",
   "execution_count": 39,
   "metadata": {},
   "outputs": [],
   "source": [
    "import scipy.io as spio\n",
    "import matplotlib.pyplot as plt"
   ]
  },
  {
   "cell_type": "code",
   "execution_count": 3,
   "metadata": {},
   "outputs": [],
   "source": [
    "matdata = spio.loadmat('motor_cortex_data.mat')"
   ]
  },
  {
   "cell_type": "code",
   "execution_count": 48,
   "metadata": {},
   "outputs": [],
   "source": [
    "neuronsData =matdata['spk_rast'][0]"
   ]
  },
  {
   "cell_type": "code",
   "execution_count": 175,
   "metadata": {},
   "outputs": [],
   "source": [
    "def plotNeuron(neuronData,n):\n",
    "    u,ul,l,dl,d,dr,r,ur=[],[],[],[],[],[],[],[]\n",
    "    for dat,td in zip(list(neuronData[0]),list(neuronData[1])):#trie_dir\n",
    "        \n",
    "        if td[1]>0 and td[0]==0:#up\n",
    "            u.append(dat)\n",
    "        elif td[1]<0 and td[0]==0:#down\n",
    "            d.append(dat)\n",
    "        elif td[1]==0 and td[0]>0:#right\n",
    "            r.append(dat)\n",
    "        elif td[1]==0 and td[0]<0:#left\n",
    "            l.append(dat)\n",
    "        elif td[1]>0 and td[0]<0:#up left\n",
    "            ul.append(dat)\n",
    "        elif td[1]>0 and td[0]>0:#up right\n",
    "            ur.append(dat)\n",
    "        elif td[1]<0 and td[0]<0:#down left\n",
    "            dl.append(dat)\n",
    "        elif td[1]<0 and td[0]>0:#down right\n",
    "            dr.append(dat)\n",
    "    plt.figure(figsize=(15,10)) \n",
    "    \n",
    "    #up left\n",
    "    plt.subplot(3, 3, 1)\n",
    "    plt.xlim((0,1))\n",
    "    plt.ylim((0,20))\n",
    "    plt.eventplot(ul)\n",
    "    #up \n",
    "    plt.subplot(3, 3, 2)\n",
    "    plt.xlim((0,1))\n",
    "    plt.ylim((0,20))\n",
    "    plt.eventplot(u)\n",
    "    #up right \n",
    "    plt.subplot(3, 3, 3)\n",
    "    plt.xlim((0,1))\n",
    "    plt.ylim((0,20))\n",
    "    plt.eventplot(ur)\n",
    "\n",
    "    #left\n",
    "    plt.subplot(3, 3, 4)\n",
    "    plt.xlim((0,1))\n",
    "    plt.ylim((0,20))\n",
    "    plt.eventplot(l)\n",
    "    \n",
    "    \n",
    "    #center\n",
    "    \n",
    "    plt.subplot(3, 3, 5)\n",
    "    plt.title('Neurona %d'%n)\n",
    "    plt.xlim((-1.1,1.1))\n",
    "    plt.ylim((-1.1,1.1))\n",
    "    plt.plot([0],[1],'o',label=\"u\")\n",
    "    plt.plot([0],[-1],'o',label=\"d\")\n",
    "    plt.plot([-1],[0],'o',label=\"l\")\n",
    "    plt.plot([1],[0],'o',label=\"r\")\n",
    "    plt.plot([-.7],[.7],'o',label=\"ul\")\n",
    "    plt.plot([.7],[.7],'o',label=\"ur\")\n",
    "    plt.plot([-.7],[-.7],'o',label=\"dl\")\n",
    "    plt.plot([.7],[-.7],'o',label=\"dr\")\n",
    "    plt.legend(loc='center')\n",
    "    \n",
    "    #right \n",
    "    plt.subplot(3, 3, 6)\n",
    "    plt.xlim((0,1))\n",
    "    plt.ylim((0,20))\n",
    "    plt.eventplot(r)\n",
    "\n",
    "    #down left\n",
    "    plt.subplot(3, 3, 7)\n",
    "    plt.xlim((0,1))\n",
    "    plt.ylim((0,20))\n",
    "    plt.eventplot(dl)\n",
    "    #down \n",
    "    plt.subplot(3, 3, 8)\n",
    "    plt.xlim((0,1))\n",
    "    plt.ylim((0,20))\n",
    "    plt.eventplot(d)\n",
    "    #down right \n",
    "    plt.subplot(3, 3, 9)\n",
    "    plt.xlim((0,1))\n",
    "    plt.ylim((0,20))\n",
    "    plt.eventplot(dr)\n",
    "    plot.savefig(\"neurona%d.png\"%i)\n",
    "    plt.show()"
   ]
  },
  {
   "cell_type": "code",
   "execution_count": 176,
   "metadata": {},
   "outputs": [],
   "source": [
    "#neurona 1 abajo?\n",
    "#neurona 4 tiene preferencia hacia la Arriba\n",
    "#neurona 5 pareciera tener una leve preferencia hacia derecha?\n",
    "#neurona 7 abajo leve derecha\n",
    "#neurona 12 tiene preferencia hacia derecha leve arriba\n",
    "#neurona 13 tiene preferencia abajo leve izquierda\n",
    "#neurona 15 pareciera tender a la izquierda pero muy difuso\n",
    "#neurona 17 tiene preferencia izquierda\n",
    "#neurona 18 tiene preferencia arriba, leve izquierda\n",
    "#neurona 21 tiene una muy marcada prefercia hacia abajo\n",
    "#neurona 24 pareciera tener cierta tendencia hacia abajo derecha\n",
    "#neurona 26 difuso pero con una cierta tendencia hacia abajo\n",
    "\n"
   ]
  },
  {
   "cell_type": "code",
   "execution_count": 177,
   "metadata": {},
   "outputs": [
    {
     "name": "stdout",
     "output_type": "stream",
     "text": [
      "Neurona 29\n"
     ]
    },
    {
     "data": {
      "image/png": "[encoded data removed]",
      "text/plain": [
       "<Figure size 1080x720 with 9 Axes>"
      ]
     },
     "metadata": {
      "needs_background": "light"
     },
     "output_type": "display_data"
    }
   ],
   "source": [
    "import time\n",
    "from IPython.display import clear_output\n",
    "\n",
    "for i in range(30):\n",
    "    clear_output()\n",
    "    print \"Neurona %d\"%i\n",
    "    plotNeuron(neuronsData[i],i)\n",
    "    \n",
    "    time.sleep(2)"
   ]
  },
  {
   "cell_type": "code",
   "execution_count": null,
   "metadata": {},
   "outputs": [],
   "source": [
    "g,b =zip(neuronsData[3][0],neuronsData[3][1])[0]"
   ]
  },
  {
   "cell_type": "code",
   "execution_count": 73,
   "metadata": {},
   "outputs": [
    {
     "data": {
      "text/plain": [
       "array([1., 0.])"
      ]
     },
     "execution_count": 73,
     "metadata": {},
     "output_type": "execute_result"
    }
   ],
   "source": [
    "b"
   ]
  },
  {
   "cell_type": "code",
   "execution_count": null,
   "metadata": {},
   "outputs": [],
   "source": []
  }
 ],
 "metadata": {
  "kernelspec": {
   "display_name": "Python 2",
   "language": "python",
   "name": "python2"
  },
  "language_info": {
   "codemirror_mode": {
    "name": "ipython",
    "version": 2
   },
   "file_extension": ".py",
   "mimetype": "text/x-python",
   "name": "python",
   "nbconvert_exporter": "python",
   "pygments_lexer": "ipython2",
   "version": "2.7.15"
  }
 },
 "nbformat": 4,
 "nbformat_minor": 2
}
